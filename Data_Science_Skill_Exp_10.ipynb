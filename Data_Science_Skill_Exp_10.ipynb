{
  "nbformat": 4,
  "nbformat_minor": 0,
  "metadata": {
    "colab": {
      "provenance": []
    },
    "kernelspec": {
      "name": "python3",
      "display_name": "Python 3"
    },
    "language_info": {
      "name": "python"
    }
  },
  "cells": [
    {
      "cell_type": "code",
      "execution_count": 1,
      "metadata": {
        "colab": {
          "base_uri": "https://localhost:8080/"
        },
        "id": "5bS7PnI5CQ8O",
        "outputId": "5002805d-f5be-4513-aff8-862e507c3790"
      },
      "outputs": [
        {
          "output_type": "stream",
          "name": "stdout",
          "text": [
            "Selected Features using Backward Elimination (RFE): Index(['volatile acidity', 'citric acid', 'chlorides', 'sulphates', 'alcohol'], dtype='object')\n"
          ]
        }
      ],
      "source": [
        "import pandas as pd\n",
        "from sklearn.feature_selection import RFE\n",
        "from sklearn.linear_model import LogisticRegression\n",
        "from sklearn.model_selection import train_test_split\n",
        "\n",
        "url = \"/content/winequality-red[1].csv\"\n",
        "df = pd.read_csv(url, delimiter=';')\n",
        "\n",
        "df['quality_category'] = (df['quality'] >= 7).astype(int)\n",
        "\n",
        "X = df.drop(columns=['quality', 'quality_category'])\n",
        "y = df['quality_category']\n",
        "\n",
        "X_train, X_test, y_train, y_test = train_test_split(X, y, test_size=0.2, random_state=42)\n",
        "\n",
        "model = LogisticRegression(max_iter=1000)\n",
        "rfe = RFE(model, n_features_to_select=5)\n",
        "rfe.fit(X_train, y_train)\n",
        "\n",
        "selected_features_rfe = X.columns[rfe.support_]\n",
        "print(\"Selected Features using Backward Elimination (RFE):\", selected_features_rfe)"
      ]
    }
  ]
}